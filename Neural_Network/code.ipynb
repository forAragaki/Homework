{
 "cells": [
  {
   "cell_type": "code",
   "execution_count": 8,
   "metadata": {},
   "outputs": [],
   "source": [
    "\n",
    "import os\n",
    "import torch\n",
    "import pandas as pd\n",
    "import numpy as np\n",
    "import random\n",
    "import torch.nn as nn\n",
    "import matplotlib.pyplot as plt\n",
    "from glob import glob\n",
    "import time\n",
    "from tqdm import tqdm\n",
    "from sklearn import metrics\n",
    "import cv2\n",
    "import gc\n",
    "import torch.nn.functional as F\n",
    "from glob import glob\n",
    "from sklearn.model_selection import KFold\n",
    "from datetime import datetime\n",
    "from torch.utils.data import Dataset,DataLoader\n",
    "from torch.utils.data.sampler import SequentialSampler, RandomSampler\n",
    "import sklearn\n",
    "from sklearn.preprocessing import StandardScaler\n",
    "from sklearn.svm import SVC\n",
    "from sklearn.metrics import accuracy_score\n",
    "import numpy as np\n",
    "import matplotlib.pyplot as plt\n",
    "from mpl_toolkits.mplot3d import Axes3D\n",
    "%matplotlib inline\n",
    "from sklearn.datasets.samples_generator import make_blobs"
   ]
  },
  {
   "cell_type": "code",
   "execution_count": 3,
   "metadata": {},
   "outputs": [
    {
     "name": "stdout",
     "output_type": "stream",
     "text": [
      "setting everything to seed 42\n"
     ]
    }
   ],
   "source": [
    "SEED = 42\n",
    "def seed_everything(seed):\n",
    "    print(f'setting everything to seed {seed}')\n",
    "    random.seed(seed)\n",
    "    os.environ['PYTHONHASHSEED'] = str(seed)\n",
    "    np.random.seed(seed)\n",
    "    torch.manual_seed(seed)\n",
    "    torch.cuda.manual_seed(seed)\n",
    "    torch.backends.cudnn.deterministic = True\n",
    "    torch.backends.cudnn.benchmark = True\n",
    "\n",
    "seed_everything(SEED)"
   ]
  },
  {
   "cell_type": "markdown",
   "metadata": {},
   "source": [
    "# EDA"
   ]
  },
  {
   "cell_type": "code",
   "execution_count": 4,
   "metadata": {},
   "outputs": [],
   "source": [
    "train_data = np.load('data_hw2/train_data.npy')\n",
    "train_label = np.load('data_hw2/train_label.npy')\n",
    "test_data = np.load('data_hw2/test_data.npy')\n",
    "test_label = np.load('data_hw2/test_label.npy')"
   ]
  },
  {
   "cell_type": "code",
   "execution_count": 5,
   "metadata": {},
   "outputs": [
    {
     "data": {
      "text/plain": [
       " 1.0    4692\n",
       "-1.0    4480\n",
       " 0.0    4416\n",
       "Name: label, dtype: int64"
      ]
     },
     "execution_count": 5,
     "metadata": {},
     "output_type": "execute_result"
    }
   ],
   "source": [
    "features = [f'f_{i}' for i in range(test_data.shape[1])]\n",
    "test_df = pd.DataFrame(test_data, columns=features)\n",
    "test_df['label'] = test_label\n",
    "test_df.label.value_counts()"
   ]
  },
  {
   "cell_type": "code",
   "execution_count": 6,
   "metadata": {},
   "outputs": [
    {
     "data": {
      "text/plain": [
       " 1.0    12903\n",
       "-1.0    12320\n",
       " 0.0    12144\n",
       "Name: label, dtype: int64"
      ]
     },
     "execution_count": 6,
     "metadata": {},
     "output_type": "execute_result"
    }
   ],
   "source": [
    "features = [f'f_{i}' for i in range(train_data.shape[1])]\n",
    "train_df = pd.DataFrame(train_data, columns=features)\n",
    "train_df['label'] = train_label\n",
    "train_df.label.value_counts()"
   ]
  },
  {
   "cell_type": "code",
   "execution_count": 9,
   "metadata": {},
   "outputs": [
    {
     "data": {
      "text/html": [
       "<div>\n",
       "<style scoped>\n",
       "    .dataframe tbody tr th:only-of-type {\n",
       "        vertical-align: middle;\n",
       "    }\n",
       "\n",
       "    .dataframe tbody tr th {\n",
       "        vertical-align: top;\n",
       "    }\n",
       "\n",
       "    .dataframe thead th {\n",
       "        text-align: right;\n",
       "    }\n",
       "</style>\n",
       "<table border=\"1\" class=\"dataframe\">\n",
       "  <thead>\n",
       "    <tr style=\"text-align: right;\">\n",
       "      <th></th>\n",
       "      <th>f_0</th>\n",
       "      <th>f_1</th>\n",
       "      <th>f_2</th>\n",
       "      <th>f_3</th>\n",
       "      <th>f_4</th>\n",
       "      <th>f_5</th>\n",
       "      <th>f_6</th>\n",
       "      <th>f_7</th>\n",
       "      <th>f_8</th>\n",
       "      <th>f_9</th>\n",
       "      <th>...</th>\n",
       "      <th>f_301</th>\n",
       "      <th>f_302</th>\n",
       "      <th>f_303</th>\n",
       "      <th>f_304</th>\n",
       "      <th>f_305</th>\n",
       "      <th>f_306</th>\n",
       "      <th>f_307</th>\n",
       "      <th>f_308</th>\n",
       "      <th>f_309</th>\n",
       "      <th>label</th>\n",
       "    </tr>\n",
       "  </thead>\n",
       "  <tbody>\n",
       "    <tr>\n",
       "      <th>count</th>\n",
       "      <td>37367.000000</td>\n",
       "      <td>37367.000000</td>\n",
       "      <td>37367.000000</td>\n",
       "      <td>37367.000000</td>\n",
       "      <td>37367.000000</td>\n",
       "      <td>37367.000000</td>\n",
       "      <td>37367.000000</td>\n",
       "      <td>37367.000000</td>\n",
       "      <td>37367.000000</td>\n",
       "      <td>37367.000000</td>\n",
       "      <td>...</td>\n",
       "      <td>37367.000000</td>\n",
       "      <td>37367.000000</td>\n",
       "      <td>37367.000000</td>\n",
       "      <td>37367.000000</td>\n",
       "      <td>37367.000000</td>\n",
       "      <td>37367.000000</td>\n",
       "      <td>37367.000000</td>\n",
       "      <td>37367.000000</td>\n",
       "      <td>37367.000000</td>\n",
       "      <td>37367.000000</td>\n",
       "    </tr>\n",
       "    <tr>\n",
       "      <th>mean</th>\n",
       "      <td>26.307912</td>\n",
       "      <td>22.110035</td>\n",
       "      <td>20.304931</td>\n",
       "      <td>18.683185</td>\n",
       "      <td>17.780938</td>\n",
       "      <td>26.308013</td>\n",
       "      <td>22.096060</td>\n",
       "      <td>20.280133</td>\n",
       "      <td>18.423180</td>\n",
       "      <td>17.359387</td>\n",
       "      <td>...</td>\n",
       "      <td>20.958111</td>\n",
       "      <td>19.752555</td>\n",
       "      <td>18.257986</td>\n",
       "      <td>16.787448</td>\n",
       "      <td>25.440076</td>\n",
       "      <td>21.212016</td>\n",
       "      <td>19.943632</td>\n",
       "      <td>18.456378</td>\n",
       "      <td>16.906975</td>\n",
       "      <td>0.015602</td>\n",
       "    </tr>\n",
       "    <tr>\n",
       "      <th>std</th>\n",
       "      <td>0.921825</td>\n",
       "      <td>0.815095</td>\n",
       "      <td>0.790141</td>\n",
       "      <td>0.889276</td>\n",
       "      <td>1.289960</td>\n",
       "      <td>0.984163</td>\n",
       "      <td>0.818914</td>\n",
       "      <td>0.784670</td>\n",
       "      <td>0.634411</td>\n",
       "      <td>0.895656</td>\n",
       "      <td>...</td>\n",
       "      <td>0.605819</td>\n",
       "      <td>0.739794</td>\n",
       "      <td>0.553449</td>\n",
       "      <td>0.911842</td>\n",
       "      <td>0.936969</td>\n",
       "      <td>0.528262</td>\n",
       "      <td>0.646587</td>\n",
       "      <td>0.467847</td>\n",
       "      <td>0.829632</td>\n",
       "      <td>0.821451</td>\n",
       "    </tr>\n",
       "    <tr>\n",
       "      <th>min</th>\n",
       "      <td>23.986169</td>\n",
       "      <td>20.090675</td>\n",
       "      <td>18.458207</td>\n",
       "      <td>17.111253</td>\n",
       "      <td>15.401767</td>\n",
       "      <td>23.757498</td>\n",
       "      <td>20.126303</td>\n",
       "      <td>18.480260</td>\n",
       "      <td>16.973346</td>\n",
       "      <td>15.099613</td>\n",
       "      <td>...</td>\n",
       "      <td>19.469145</td>\n",
       "      <td>18.385926</td>\n",
       "      <td>17.079901</td>\n",
       "      <td>15.089669</td>\n",
       "      <td>23.538066</td>\n",
       "      <td>20.068334</td>\n",
       "      <td>18.770023</td>\n",
       "      <td>17.480364</td>\n",
       "      <td>15.413249</td>\n",
       "      <td>-1.000000</td>\n",
       "    </tr>\n",
       "    <tr>\n",
       "      <th>25%</th>\n",
       "      <td>25.718730</td>\n",
       "      <td>21.534643</td>\n",
       "      <td>19.738649</td>\n",
       "      <td>18.106129</td>\n",
       "      <td>16.924630</td>\n",
       "      <td>25.653640</td>\n",
       "      <td>21.545284</td>\n",
       "      <td>19.755248</td>\n",
       "      <td>18.037299</td>\n",
       "      <td>16.785763</td>\n",
       "      <td>...</td>\n",
       "      <td>20.476930</td>\n",
       "      <td>19.191609</td>\n",
       "      <td>17.871323</td>\n",
       "      <td>16.141387</td>\n",
       "      <td>24.824087</td>\n",
       "      <td>20.753884</td>\n",
       "      <td>19.455725</td>\n",
       "      <td>18.126238</td>\n",
       "      <td>16.288857</td>\n",
       "      <td>-1.000000</td>\n",
       "    </tr>\n",
       "    <tr>\n",
       "      <th>50%</th>\n",
       "      <td>26.295942</td>\n",
       "      <td>22.173384</td>\n",
       "      <td>20.296463</td>\n",
       "      <td>18.439192</td>\n",
       "      <td>17.360649</td>\n",
       "      <td>26.384671</td>\n",
       "      <td>22.188781</td>\n",
       "      <td>20.341341</td>\n",
       "      <td>18.412210</td>\n",
       "      <td>17.248337</td>\n",
       "      <td>...</td>\n",
       "      <td>20.948789</td>\n",
       "      <td>19.651535</td>\n",
       "      <td>18.190214</td>\n",
       "      <td>16.604118</td>\n",
       "      <td>25.418905</td>\n",
       "      <td>21.170567</td>\n",
       "      <td>19.838847</td>\n",
       "      <td>18.391835</td>\n",
       "      <td>16.802563</td>\n",
       "      <td>0.000000</td>\n",
       "    </tr>\n",
       "    <tr>\n",
       "      <th>75%</th>\n",
       "      <td>26.938378</td>\n",
       "      <td>22.682997</td>\n",
       "      <td>20.820196</td>\n",
       "      <td>18.944697</td>\n",
       "      <td>18.260674</td>\n",
       "      <td>27.000940</td>\n",
       "      <td>22.658471</td>\n",
       "      <td>20.810279</td>\n",
       "      <td>18.795881</td>\n",
       "      <td>17.873497</td>\n",
       "      <td>...</td>\n",
       "      <td>21.460246</td>\n",
       "      <td>20.119153</td>\n",
       "      <td>18.719843</td>\n",
       "      <td>17.405790</td>\n",
       "      <td>25.920063</td>\n",
       "      <td>21.680352</td>\n",
       "      <td>20.270002</td>\n",
       "      <td>18.815960</td>\n",
       "      <td>17.381670</td>\n",
       "      <td>1.000000</td>\n",
       "    </tr>\n",
       "    <tr>\n",
       "      <th>max</th>\n",
       "      <td>31.117939</td>\n",
       "      <td>24.459037</td>\n",
       "      <td>22.433177</td>\n",
       "      <td>21.432797</td>\n",
       "      <td>21.636593</td>\n",
       "      <td>31.058733</td>\n",
       "      <td>24.359110</td>\n",
       "      <td>22.205323</td>\n",
       "      <td>20.029018</td>\n",
       "      <td>19.701286</td>\n",
       "      <td>...</td>\n",
       "      <td>22.184486</td>\n",
       "      <td>22.255170</td>\n",
       "      <td>20.315344</td>\n",
       "      <td>20.470531</td>\n",
       "      <td>30.768231</td>\n",
       "      <td>22.318322</td>\n",
       "      <td>22.212960</td>\n",
       "      <td>20.281005</td>\n",
       "      <td>19.980844</td>\n",
       "      <td>1.000000</td>\n",
       "    </tr>\n",
       "  </tbody>\n",
       "</table>\n",
       "<p>8 rows × 311 columns</p>\n",
       "</div>"
      ],
      "text/plain": [
       "                f_0           f_1           f_2           f_3           f_4  \\\n",
       "count  37367.000000  37367.000000  37367.000000  37367.000000  37367.000000   \n",
       "mean      26.307912     22.110035     20.304931     18.683185     17.780938   \n",
       "std        0.921825      0.815095      0.790141      0.889276      1.289960   \n",
       "min       23.986169     20.090675     18.458207     17.111253     15.401767   \n",
       "25%       25.718730     21.534643     19.738649     18.106129     16.924630   \n",
       "50%       26.295942     22.173384     20.296463     18.439192     17.360649   \n",
       "75%       26.938378     22.682997     20.820196     18.944697     18.260674   \n",
       "max       31.117939     24.459037     22.433177     21.432797     21.636593   \n",
       "\n",
       "                f_5           f_6           f_7           f_8           f_9  \\\n",
       "count  37367.000000  37367.000000  37367.000000  37367.000000  37367.000000   \n",
       "mean      26.308013     22.096060     20.280133     18.423180     17.359387   \n",
       "std        0.984163      0.818914      0.784670      0.634411      0.895656   \n",
       "min       23.757498     20.126303     18.480260     16.973346     15.099613   \n",
       "25%       25.653640     21.545284     19.755248     18.037299     16.785763   \n",
       "50%       26.384671     22.188781     20.341341     18.412210     17.248337   \n",
       "75%       27.000940     22.658471     20.810279     18.795881     17.873497   \n",
       "max       31.058733     24.359110     22.205323     20.029018     19.701286   \n",
       "\n",
       "       ...         f_301         f_302         f_303         f_304  \\\n",
       "count  ...  37367.000000  37367.000000  37367.000000  37367.000000   \n",
       "mean   ...     20.958111     19.752555     18.257986     16.787448   \n",
       "std    ...      0.605819      0.739794      0.553449      0.911842   \n",
       "min    ...     19.469145     18.385926     17.079901     15.089669   \n",
       "25%    ...     20.476930     19.191609     17.871323     16.141387   \n",
       "50%    ...     20.948789     19.651535     18.190214     16.604118   \n",
       "75%    ...     21.460246     20.119153     18.719843     17.405790   \n",
       "max    ...     22.184486     22.255170     20.315344     20.470531   \n",
       "\n",
       "              f_305         f_306         f_307         f_308         f_309  \\\n",
       "count  37367.000000  37367.000000  37367.000000  37367.000000  37367.000000   \n",
       "mean      25.440076     21.212016     19.943632     18.456378     16.906975   \n",
       "std        0.936969      0.528262      0.646587      0.467847      0.829632   \n",
       "min       23.538066     20.068334     18.770023     17.480364     15.413249   \n",
       "25%       24.824087     20.753884     19.455725     18.126238     16.288857   \n",
       "50%       25.418905     21.170567     19.838847     18.391835     16.802563   \n",
       "75%       25.920063     21.680352     20.270002     18.815960     17.381670   \n",
       "max       30.768231     22.318322     22.212960     20.281005     19.980844   \n",
       "\n",
       "              label  \n",
       "count  37367.000000  \n",
       "mean       0.015602  \n",
       "std        0.821451  \n",
       "min       -1.000000  \n",
       "25%       -1.000000  \n",
       "50%        0.000000  \n",
       "75%        1.000000  \n",
       "max        1.000000  \n",
       "\n",
       "[8 rows x 311 columns]"
      ]
     },
     "execution_count": 9,
     "metadata": {},
     "output_type": "execute_result"
    }
   ],
   "source": [
    "train_df.describe()"
   ]
  },
  {
   "cell_type": "code",
   "execution_count": 21,
   "metadata": {},
   "outputs": [
    {
     "data": {
      "text/plain": [
       "PCA(copy=True, iterated_power='auto', n_components=3, random_state=None,\n",
       "  svd_solver='auto', tol=0.0, whiten=False)"
      ]
     },
     "execution_count": 21,
     "metadata": {},
     "output_type": "execute_result"
    }
   ],
   "source": [
    "from sklearn.decomposition import PCA\n",
    "pca = PCA(n_components=3)\n",
    "pca.fit(train_df.sample(2000)[features])\n",
    "pcas = pca.transform(train_df.sample(10000)[features])"
   ]
  },
  {
   "cell_type": "code",
   "execution_count": null,
   "metadata": {},
   "outputs": [],
   "source": [
    "fig = plt.figure()\n",
    "ax = Axes3D(fig, elev=30, azim=20)\n",
    "plt.scatter(pcas[:, 0], pcas[:, 1], pcas[:, 2],marker='o')"
   ]
  },
  {
   "cell_type": "code",
   "execution_count": 48,
   "metadata": {},
   "outputs": [],
   "source": [
    "# 3397个样本对应一个人。 训练集11人\n",
    "for i in range(11):\n",
    "    train_df.loc[range(i*3397,(i+1)*3397),'people'] = i"
   ]
  },
  {
   "cell_type": "code",
   "execution_count": 67,
   "metadata": {},
   "outputs": [
    {
     "data": {
      "text/plain": [
       "fold\n",
       "0    10191\n",
       "1     6794\n",
       "2     6794\n",
       "3     6794\n",
       "4     6794\n",
       "dtype: int64"
      ]
     },
     "execution_count": 67,
     "metadata": {},
     "output_type": "execute_result"
    }
   ],
   "source": [
    "from sklearn.model_selection import StratifiedKFold,GroupKFold\n",
    "kfold = GroupKFold(n_splits=5)\n",
    "train_df['fold'] = 0\n",
    "for fold,(train_idx,val_idx) in enumerate(kfold.split(train_df,train_df['label'],groups=train_df.people)):\n",
    "    train_df.loc[val_idx,'fold'] = fold\n",
    "train_df.groupby('fold').size()"
   ]
  },
  {
   "cell_type": "code",
   "execution_count": 61,
   "metadata": {},
   "outputs": [
    {
     "data": {
      "text/plain": [
       "fold\n",
       "0    7474\n",
       "1    7474\n",
       "2    7474\n",
       "3    7473\n",
       "4    7472\n",
       "dtype: int64"
      ]
     },
     "execution_count": 61,
     "metadata": {},
     "output_type": "execute_result"
    }
   ],
   "source": [
    "# from sklearn.model_selection import StratifiedKFold,GroupKFold\n",
    "# kfold = StratifiedKFold(n_splits=5)\n",
    "# train_df['fold'] = 0\n",
    "# for fold,(train_idx,val_idx) in enumerate(kfold.split(train_df,train_df['label'])):\n",
    "#     train_df.loc[val_idx,'fold'] = fold\n",
    "# train_df.groupby('fold').size()"
   ]
  },
  {
   "cell_type": "code",
   "execution_count": 76,
   "metadata": {},
   "outputs": [],
   "source": [
    "from sklearn.svm import SVC\n",
    "from sklearn.metrics import accuracy_score\n",
    "from sklearn.utils import shuffle\n",
    "from sklearn.preprocessing import normalize\n",
    "from sklearn.preprocessing import StandardScaler\n",
    "# 训练\n",
    "def train_process(train_df,fold,label='label',istest=True):\n",
    "    svc=SVC(kernel='rbf',C=100,verbose=True)\n",
    "    train = train_df[train_df.fold!=0]\n",
    "    val   = train_df[train_df.fold==0]\n",
    "    train = shuffle(train)\n",
    "    traindata = train[features].values\n",
    "    trainlabel = train[label].values\n",
    "    valdata = val[features].values\n",
    "    vallabel = val[label].values\n",
    "    testdata = test_df[features].values\n",
    "    testlabel = test_df[label].values\n",
    "    # 标准化\n",
    "    ss = StandardScaler()\n",
    "    ss.fit(traindata)\n",
    "    X_train_std = ss.transform(traindata)\n",
    "    ss.fit(valdata)\n",
    "    X_val_std = ss.transform(valdata)\n",
    "    ss.fit(testdata)\n",
    "    X_test_std = ss.transform(testdata)\n",
    "    # 训练\n",
    "    svc.fit(X_train_std, trainlabel)\n",
    "    # 验证\n",
    "    y_pred=svc.predict(X_val_std)\n",
    "    print('val acc:',(accuracy_score(vallabel, y_pred)))\n",
    "    # 测试\n",
    "    y_pred=svc.predict(X_test_std)\n",
    "    print('test acc:',accuracy_score(testlabel, y_pred))\n",
    "    return y_pred"
   ]
  },
  {
   "cell_type": "code",
   "execution_count": 71,
   "metadata": {},
   "outputs": [
    {
     "name": "stdout",
     "output_type": "stream",
     "text": [
      "[LibSVM] 0.4886664704150721\n",
      "test acc: 0.5679275831616132\n"
     ]
    }
   ],
   "source": [
    "train_process(train_df,0)"
   ]
  },
  {
   "cell_type": "code",
   "execution_count": 72,
   "metadata": {},
   "outputs": [],
   "source": [
    "# 分割 one vs rest\n",
    "# -1->[0,1]\n",
    "train_df['lb1'] = train_df.label.apply(lambda x: 1 if x==-1 else 0)\n",
    "train_df['lb2'] = train_df.label.apply(lambda x: 1 if x==0 else 0)\n",
    "train_df['lb3'] = train_df.label.apply(lambda x: 1 if x==1 else 0)"
   ]
  },
  {
   "cell_type": "code",
   "execution_count": 73,
   "metadata": {},
   "outputs": [],
   "source": [
    "test_df['lb1'] = test_df.label.apply(lambda x: 1 if x==-1 else 0)\n",
    "test_df['lb2'] = test_df.label.apply(lambda x: 1 if x==0 else 0)\n",
    "test_df['lb3'] = test_df.label.apply(lambda x: 1 if x==1 else 0)"
   ]
  },
  {
   "cell_type": "code",
   "execution_count": 78,
   "metadata": {},
   "outputs": [
    {
     "name": "stdout",
     "output_type": "stream",
     "text": [
      "[LibSVM]val acc: 0.586792267687175\n",
      "test acc: 0.6496173093906388\n",
      "[LibSVM]val acc: 0.5774703169463252\n",
      "test acc: 0.745216367382985\n",
      "[LibSVM]val acc: 0.8066921793739574\n",
      "test acc: 0.7593464821901678\n"
     ]
    }
   ],
   "source": [
    "pred_lb1 = train_process(train_df,0,label='lb1')\n",
    "pred_lb2 = train_process(train_df,0,label='lb2')\n",
    "pred_lb3 = train_process(train_df,0,label='lb3')"
   ]
  },
  {
   "cell_type": "code",
   "execution_count": 88,
   "metadata": {},
   "outputs": [],
   "source": [
    "finalpred = np.stack([pred_lb1,pred_lb2,pred_lb3])\n",
    "finalpred = finalpred.argmax(axis=0)\n",
    "finalpred = finalpred-1\n",
    "print('test acc:',accuracy_score(testlabel, finalpred))"
   ]
  },
  {
   "cell_type": "code",
   "execution_count": 101,
   "metadata": {},
   "outputs": [],
   "source": [
    "# MIN-MAX  part-part\n",
    "# 先分成one vs rest 再用随机分解和先验知识分解 分为平衡的二分类问题"
   ]
  },
  {
   "cell_type": "code",
   "execution_count": 141,
   "metadata": {},
   "outputs": [],
   "source": [
    "def train_process(train_df,fold,label='label',istest=True):\n",
    "#     label = 'lb1'\n",
    "    # rest\n",
    "    # split = 'lb2'\n",
    "    svc=SVC(kernel='rbf',C=100,verbose=True)\n",
    "    train = train_df[train_df.fold!=0]\n",
    "    val   = train_df[train_df.fold==0]\n",
    "    train = shuffle(train)\n",
    "\n",
    "    # 随机分成平衡的两部分训练\n",
    "\n",
    "    # 第一部分\n",
    "    train_p =  train[train[label]==1].sample(8000)\n",
    "    train_s =  train[train[label]==0].sample(12000)\n",
    "    train_1 = train_p.append(train_s)\n",
    "    traindata = train_1[features].values\n",
    "    trainlabel = train_1[label].values\n",
    "\n",
    "    valdata = val[features].values\n",
    "    vallabel = val[label].values\n",
    "    testdata = test_df[features].values\n",
    "    testlabel = test_df[label].values\n",
    "    # 标准化\n",
    "    ss = StandardScaler()\n",
    "    ss.fit(traindata)\n",
    "    X_train_std = ss.transform(traindata)\n",
    "    ss.fit(valdata)\n",
    "    X_val_std = ss.transform(valdata)\n",
    "    ss.fit(testdata)\n",
    "    X_test_std = ss.transform(testdata)\n",
    "    # 训练\n",
    "    svc.fit(X_train_std, trainlabel)\n",
    "    # 验证\n",
    "    y_pred=svc.predict(X_val_std)\n",
    "    print('val acc:',(accuracy_score(vallabel, y_pred)))\n",
    "    # 测试\n",
    "    y_pred1=svc.predict(X_test_std)\n",
    "    print('test acc:',accuracy_score(testlabel, y_pred1))\n",
    "\n",
    "    # 第二部分\n",
    "    train_p =  train[train[label]==1].sample(8000)\n",
    "    train_s =  train[train[label]==0].sample(12000)\n",
    "    train_2 = train_p.append(train_s)\n",
    "    traindata = train_2[features].values\n",
    "    trainlabel = train_2[label].values\n",
    "    svc=SVC(kernel='rbf',C=100,verbose=True)\n",
    "    # 标准化\n",
    "    ss = StandardScaler()\n",
    "    ss.fit(traindata)\n",
    "    X_train_std = ss.transform(traindata)\n",
    "    ss.fit(valdata)\n",
    "    X_val_std = ss.transform(valdata)\n",
    "    ss.fit(testdata)\n",
    "    X_test_std = ss.transform(testdata)\n",
    "    # 训练\n",
    "    svc.fit(X_train_std, trainlabel)\n",
    "    # 验证\n",
    "    y_pred=svc.predict(X_val_std)\n",
    "    print('val acc:',(accuracy_score(vallabel, y_pred)))\n",
    "    # 测试\n",
    "    y_pred2=svc.predict(X_test_std)\n",
    "    print('test acc:',accuracy_score(testlabel, y_pred2))\n",
    "\n",
    "    return y_pred1,y_pred2"
   ]
  },
  {
   "cell_type": "code",
   "execution_count": 145,
   "metadata": {},
   "outputs": [
    {
     "name": "stdout",
     "output_type": "stream",
     "text": [
      "[LibSVM]val acc: 0.5917966833480522\n",
      "test acc: 0.6500588754783633\n",
      "[LibSVM]val acc: 0.5931704445098617\n",
      "test acc: 0.6502060641742714\n",
      "[LibSVM]val acc: 0.5660877244627612\n",
      "test acc: 0.7411686782455107\n",
      "[LibSVM]val acc: 0.5648120890982239\n",
      "test acc: 0.7421254047689138\n",
      "[LibSVM]val acc: 0.814934746344814\n",
      "test acc: 0.770974389166912\n",
      "[LibSVM]val acc: 0.8147384947502698\n",
      "test acc: 0.7714895496025905\n"
     ]
    }
   ],
   "source": [
    "y1,y2 = train_process(train_df,0,label='lb1')\n",
    "final1 = (y1 & y2)\n",
    "y1,y2 = train_process(train_df,0,label='lb2')\n",
    "final2 = (y1 & y2)\n",
    "y1,y2 = train_process(train_df,0,label='lb3')\n",
    "final3 = (y1 & y2)"
   ]
  },
  {
   "cell_type": "code",
   "execution_count": 153,
   "metadata": {},
   "outputs": [
    {
     "name": "stdout",
     "output_type": "stream",
     "text": [
      "test acc: 0.5205328230791875\n"
     ]
    }
   ],
   "source": [
    "finalpred = np.stack([final1,final2,final3])\n",
    "finalpred = finalpred.argmax(axis=0)\n",
    "finalpred = finalpred-1\n",
    "print('test acc:',accuracy_score(test_df.label, finalpred))"
   ]
  },
  {
   "cell_type": "code",
   "execution_count": 154,
   "metadata": {},
   "outputs": [],
   "source": [
    "# 第二种分配方式\n",
    "def train_process(train_df,fold,label='label',istest=True):\n",
    "#     label = 'lb1'\n",
    "    # rest\n",
    "    lbs = ['lb1','lb2','lb3']\n",
    "    lbs.remove(label)\n",
    "    svc=SVC(kernel='rbf',C=100,verbose=True)\n",
    "    train = train_df[train_df.fold!=0]\n",
    "    val   = train_df[train_df.fold==0]\n",
    "    train = shuffle(train)\n",
    "\n",
    "    # 先验知识分成平衡的两部分训练\n",
    "    # 第一部分\n",
    "    split = lbs[0]\n",
    "    train_p =  train[train[label]==1]\n",
    "    train_s =  train[(train[label]==0) & (train[split]==1)]\n",
    "    train_1 = train_p.append(train_s)\n",
    "    traindata = train_1[features].values\n",
    "    trainlabel = train_1[label].values\n",
    "\n",
    "    valdata = val[features].values\n",
    "    vallabel = val[label].values\n",
    "    testdata = test_df[features].values\n",
    "    testlabel = test_df[label].values\n",
    "    # 标准化\n",
    "    ss = StandardScaler()\n",
    "    ss.fit(traindata)\n",
    "    X_train_std = ss.transform(traindata)\n",
    "    ss.fit(valdata)\n",
    "    X_val_std = ss.transform(valdata)\n",
    "    ss.fit(testdata)\n",
    "    X_test_std = ss.transform(testdata)\n",
    "    # 训练\n",
    "    svc.fit(X_train_std, trainlabel)\n",
    "    # 验证\n",
    "    y_pred=svc.predict(X_val_std)\n",
    "    print('val acc:',(accuracy_score(vallabel, y_pred)))\n",
    "    # 测试\n",
    "    y_pred1=svc.predict(X_test_std)\n",
    "    print('test acc:',accuracy_score(testlabel, y_pred1))\n",
    "\n",
    "    # 第二部分\n",
    "    split = lbs[1]\n",
    "    train_p =  train[train[label]==1]\n",
    "    train_s =  train[(train[label]==0) & (train[split]==1)]\n",
    "    train_2 = train_p.append(train_s)\n",
    "    traindata = train_2[features].values\n",
    "    trainlabel = train_2[label].values\n",
    "    svc=SVC(kernel='rbf',C=100,verbose=True)\n",
    "    # 标准化\n",
    "    ss = StandardScaler()\n",
    "    ss.fit(traindata)\n",
    "    X_train_std = ss.transform(traindata)\n",
    "    ss.fit(valdata)\n",
    "    X_val_std = ss.transform(valdata)\n",
    "    ss.fit(testdata)\n",
    "    X_test_std = ss.transform(testdata)\n",
    "    # 训练\n",
    "    svc.fit(X_train_std, trainlabel)\n",
    "    # 验证\n",
    "    y_pred=svc.predict(X_val_std)\n",
    "    print('val acc:',(accuracy_score(vallabel, y_pred)))\n",
    "    # 测试\n",
    "    y_pred2=svc.predict(X_test_std)\n",
    "    print('test acc:',accuracy_score(testlabel, y_pred2))\n",
    "\n",
    "    return y_pred1,y_pred2"
   ]
  },
  {
   "cell_type": "code",
   "execution_count": 155,
   "metadata": {},
   "outputs": [
    {
     "name": "stdout",
     "output_type": "stream",
     "text": [
      "[LibSVM]val acc: 0.4397016975762928\n",
      "test acc: 0.4698263173388284\n",
      "[LibSVM]val acc: 0.5746246688254342\n",
      "test acc: 0.5183985869885193\n",
      "[LibSVM]val acc: 0.5548032577764694\n",
      "test acc: 0.7144539299381808\n",
      "[LibSVM]val acc: 0.6580315965067216\n",
      "test acc: 0.6456432146011186\n",
      "[LibSVM]val acc: 0.7641055833578648\n",
      "test acc: 0.8085811009714454\n",
      "[LibSVM]val acc: 0.7399666372289275\n",
      "test acc: 0.8042390344421548\n"
     ]
    }
   ],
   "source": [
    "y1,y2 = train_process(train_df,0,label='lb1')\n",
    "final1 = (y1 & y2)\n",
    "y1,y2 = train_process(train_df,0,label='lb2')\n",
    "final2 = (y1 & y2)\n",
    "y1,y2 = train_process(train_df,0,label='lb3')\n",
    "final3 = (y1 & y2)"
   ]
  },
  {
   "cell_type": "code",
   "execution_count": 156,
   "metadata": {},
   "outputs": [
    {
     "name": "stdout",
     "output_type": "stream",
     "text": [
      "test acc: 0.5901530762437445\n"
     ]
    }
   ],
   "source": [
    "finalpred = np.stack([final1,final2,final3])\n",
    "finalpred = finalpred.argmax(axis=0)\n",
    "finalpred = finalpred-1\n",
    "print('test acc:',accuracy_score(test_df.label, finalpred))"
   ]
  },
  {
   "cell_type": "code",
   "execution_count": null,
   "metadata": {},
   "outputs": [],
   "source": []
  }
 ],
 "metadata": {
  "kernelspec": {
   "display_name": "Python 3",
   "language": "python",
   "name": "python3"
  },
  "language_info": {
   "codemirror_mode": {
    "name": "ipython",
    "version": 3
   },
   "file_extension": ".py",
   "mimetype": "text/x-python",
   "name": "python",
   "nbconvert_exporter": "python",
   "pygments_lexer": "ipython3",
   "version": "3.6.8"
  }
 },
 "nbformat": 4,
 "nbformat_minor": 2
}