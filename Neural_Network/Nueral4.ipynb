{
 "cells": [
  {
   "cell_type": "code",
   "execution_count": 1,
   "metadata": {},
   "outputs": [],
   "source": [
    "import os\n",
    "import torch\n",
    "import pandas as pd\n",
    "import numpy as np\n",
    "import random\n",
    "import torch.nn as nn\n",
    "import matplotlib.pyplot as plt\n",
    "from glob import glob\n",
    "import time\n",
    "from tqdm import tqdm\n",
    "from sklearn import metrics\n",
    "import cv2\n",
    "import gc\n",
    "import torch.nn.functional as F                                      \n",
    "from glob import glob\n",
    "from sklearn.model_selection import KFold\n",
    "from datetime import datetime\n",
    "from torch.utils.data import Dataset,DataLoader\n",
    "from torch.utils.data.sampler import SequentialSampler, RandomSampler\n",
    "import sklearn\n",
    "from sklearn.preprocessing import StandardScaler\n",
    "from sklearn.svm import SVC\n",
    "from sklearn.metrics import accuracy_score\n",
    "import numpy as np\n",
    "import matplotlib.pyplot as plt\n",
    "from mpl_toolkits.mplot3d import Axes3D\n",
    "%matplotlib inline\n",
    "from sklearn.datasets.samples_generator import make_blobs"
   ]
  },
  {
   "cell_type": "code",
   "execution_count": 2,
   "metadata": {},
   "outputs": [
    {
     "name": "stdout",
     "output_type": "stream",
     "text": [
      "setting everything to seed 42\n"
     ]
    }
   ],
   "source": [
    "SEED = 42\n",
    "def seed_everything(seed):\n",
    "    print(f'setting everything to seed {seed}')\n",
    "    random.seed(seed)\n",
    "    os.environ['PYTHONHASHSEED'] = str(seed)\n",
    "    np.random.seed(seed)\n",
    "    torch.manual_seed(seed)\n",
    "    torch.cuda.manual_seed(seed)\n",
    "    torch.backends.cudnn.deterministic = True\n",
    "    torch.backends.cudnn.benchmark = True\n",
    "\n",
    "seed_everything(SEED)"
   ]
  },
  {
   "cell_type": "code",
   "execution_count": 3,
   "metadata": {},
   "outputs": [],
   "source": [
    "train_data = np.load('data/train_data.npy')\n",
    "train_label = np.load('data/train_label.npy')\n",
    "test_data = np.load('data/test_data.npy')\n",
    "test_label = np.load('data/test_label.npy')"
   ]
  },
  {
   "cell_type": "code",
   "execution_count": 4,
   "metadata": {},
   "outputs": [
    {
     "data": {
      "text/plain": [
       " 1.0    4692\n",
       "-1.0    4480\n",
       " 0.0    4416\n",
       "Name: label, dtype: int64"
      ]
     },
     "execution_count": 4,
     "metadata": {},
     "output_type": "execute_result"
    }
   ],
   "source": [
    "features = [f'f_{i}' for i in range(test_data.shape[1])]\n",
    "test_df = pd.DataFrame(test_data, columns=features)\n",
    "test_df['label'] = test_label\n",
    "test_df.label.value_counts()"
   ]
  },
  {
   "cell_type": "code",
   "execution_count": 5,
   "metadata": {},
   "outputs": [],
   "source": [
    "# 15个片段 每个片段200多个数据\n",
    "# 1 0 -1 -1 0 1 -1 0 1 1 0 -1 0 1 -1\n",
    "split = [238,233,206,238,185,195,237,216,265,237,235,233,235,238,206]\n",
    "\n",
    "features = [f'f_{i}' for i in range(test_data.shape[1])]\n",
    "def handle(datas,labels):\n",
    "    labels = labels+1\n",
    "    data_df = pd.DataFrame(datas, columns=features)\n",
    "    data_df['label'] = labels\n",
    "    for i in range(0,data_df.shape[0],3397):\n",
    "        data_df.loc[range(i,i+3397),'people'] = i//3397\n",
    "    # 分成许多段\n",
    "    k = 0\n",
    "    ct = 0\n",
    "    while k<data_df.shape[0]:\n",
    "        data_df.loc[range(k,k+split[ct%15]),'movie'] = ct\n",
    "        k = k + split[ct%15]\n",
    "        ct += 1\n",
    "    return data_df"
   ]
  },
  {
   "cell_type": "code",
   "execution_count": 6,
   "metadata": {},
   "outputs": [],
   "source": [
    "test_df = handle(test_data,test_label)\n",
    "train_df = handle(train_data,train_label)"
   ]
  },
  {
   "cell_type": "code",
   "execution_count": 7,
   "metadata": {},
   "outputs": [
    {
     "data": {
      "text/html": [
       "<div>\n",
       "<style scoped>\n",
       "    .dataframe tbody tr th:only-of-type {\n",
       "        vertical-align: middle;\n",
       "    }\n",
       "\n",
       "    .dataframe tbody tr th {\n",
       "        vertical-align: top;\n",
       "    }\n",
       "\n",
       "    .dataframe thead th {\n",
       "        text-align: right;\n",
       "    }\n",
       "</style>\n",
       "<table border=\"1\" class=\"dataframe\">\n",
       "  <thead>\n",
       "    <tr style=\"text-align: right;\">\n",
       "      <th></th>\n",
       "      <th></th>\n",
       "      <th>f_0</th>\n",
       "      <th>f_1</th>\n",
       "      <th>f_2</th>\n",
       "      <th>f_3</th>\n",
       "      <th>f_4</th>\n",
       "      <th>f_5</th>\n",
       "      <th>f_6</th>\n",
       "      <th>f_7</th>\n",
       "      <th>f_8</th>\n",
       "      <th>f_9</th>\n",
       "      <th>...</th>\n",
       "      <th>f_301</th>\n",
       "      <th>f_302</th>\n",
       "      <th>f_303</th>\n",
       "      <th>f_304</th>\n",
       "      <th>f_305</th>\n",
       "      <th>f_306</th>\n",
       "      <th>f_307</th>\n",
       "      <th>f_308</th>\n",
       "      <th>f_309</th>\n",
       "      <th>people</th>\n",
       "    </tr>\n",
       "    <tr>\n",
       "      <th>movie</th>\n",
       "      <th>label</th>\n",
       "      <th></th>\n",
       "      <th></th>\n",
       "      <th></th>\n",
       "      <th></th>\n",
       "      <th></th>\n",
       "      <th></th>\n",
       "      <th></th>\n",
       "      <th></th>\n",
       "      <th></th>\n",
       "      <th></th>\n",
       "      <th></th>\n",
       "      <th></th>\n",
       "      <th></th>\n",
       "      <th></th>\n",
       "      <th></th>\n",
       "      <th></th>\n",
       "      <th></th>\n",
       "      <th></th>\n",
       "      <th></th>\n",
       "      <th></th>\n",
       "      <th></th>\n",
       "    </tr>\n",
       "  </thead>\n",
       "  <tbody>\n",
       "    <tr>\n",
       "      <th>0.0</th>\n",
       "      <th>2.0</th>\n",
       "      <td>238</td>\n",
       "      <td>238</td>\n",
       "      <td>238</td>\n",
       "      <td>238</td>\n",
       "      <td>238</td>\n",
       "      <td>238</td>\n",
       "      <td>238</td>\n",
       "      <td>238</td>\n",
       "      <td>238</td>\n",
       "      <td>238</td>\n",
       "      <td>...</td>\n",
       "      <td>238</td>\n",
       "      <td>238</td>\n",
       "      <td>238</td>\n",
       "      <td>238</td>\n",
       "      <td>238</td>\n",
       "      <td>238</td>\n",
       "      <td>238</td>\n",
       "      <td>238</td>\n",
       "      <td>238</td>\n",
       "      <td>238</td>\n",
       "    </tr>\n",
       "    <tr>\n",
       "      <th>1.0</th>\n",
       "      <th>1.0</th>\n",
       "      <td>233</td>\n",
       "      <td>233</td>\n",
       "      <td>233</td>\n",
       "      <td>233</td>\n",
       "      <td>233</td>\n",
       "      <td>233</td>\n",
       "      <td>233</td>\n",
       "      <td>233</td>\n",
       "      <td>233</td>\n",
       "      <td>233</td>\n",
       "      <td>...</td>\n",
       "      <td>233</td>\n",
       "      <td>233</td>\n",
       "      <td>233</td>\n",
       "      <td>233</td>\n",
       "      <td>233</td>\n",
       "      <td>233</td>\n",
       "      <td>233</td>\n",
       "      <td>233</td>\n",
       "      <td>233</td>\n",
       "      <td>233</td>\n",
       "    </tr>\n",
       "    <tr>\n",
       "      <th>2.0</th>\n",
       "      <th>0.0</th>\n",
       "      <td>206</td>\n",
       "      <td>206</td>\n",
       "      <td>206</td>\n",
       "      <td>206</td>\n",
       "      <td>206</td>\n",
       "      <td>206</td>\n",
       "      <td>206</td>\n",
       "      <td>206</td>\n",
       "      <td>206</td>\n",
       "      <td>206</td>\n",
       "      <td>...</td>\n",
       "      <td>206</td>\n",
       "      <td>206</td>\n",
       "      <td>206</td>\n",
       "      <td>206</td>\n",
       "      <td>206</td>\n",
       "      <td>206</td>\n",
       "      <td>206</td>\n",
       "      <td>206</td>\n",
       "      <td>206</td>\n",
       "      <td>206</td>\n",
       "    </tr>\n",
       "    <tr>\n",
       "      <th>3.0</th>\n",
       "      <th>0.0</th>\n",
       "      <td>238</td>\n",
       "      <td>238</td>\n",
       "      <td>238</td>\n",
       "      <td>238</td>\n",
       "      <td>238</td>\n",
       "      <td>238</td>\n",
       "      <td>238</td>\n",
       "      <td>238</td>\n",
       "      <td>238</td>\n",
       "      <td>238</td>\n",
       "      <td>...</td>\n",
       "      <td>238</td>\n",
       "      <td>238</td>\n",
       "      <td>238</td>\n",
       "      <td>238</td>\n",
       "      <td>238</td>\n",
       "      <td>238</td>\n",
       "      <td>238</td>\n",
       "      <td>238</td>\n",
       "      <td>238</td>\n",
       "      <td>238</td>\n",
       "    </tr>\n",
       "    <tr>\n",
       "      <th>4.0</th>\n",
       "      <th>1.0</th>\n",
       "      <td>185</td>\n",
       "      <td>185</td>\n",
       "      <td>185</td>\n",
       "      <td>185</td>\n",
       "      <td>185</td>\n",
       "      <td>185</td>\n",
       "      <td>185</td>\n",
       "      <td>185</td>\n",
       "      <td>185</td>\n",
       "      <td>185</td>\n",
       "      <td>...</td>\n",
       "      <td>185</td>\n",
       "      <td>185</td>\n",
       "      <td>185</td>\n",
       "      <td>185</td>\n",
       "      <td>185</td>\n",
       "      <td>185</td>\n",
       "      <td>185</td>\n",
       "      <td>185</td>\n",
       "      <td>185</td>\n",
       "      <td>185</td>\n",
       "    </tr>\n",
       "    <tr>\n",
       "      <th>...</th>\n",
       "      <th>...</th>\n",
       "      <td>...</td>\n",
       "      <td>...</td>\n",
       "      <td>...</td>\n",
       "      <td>...</td>\n",
       "      <td>...</td>\n",
       "      <td>...</td>\n",
       "      <td>...</td>\n",
       "      <td>...</td>\n",
       "      <td>...</td>\n",
       "      <td>...</td>\n",
       "      <td>...</td>\n",
       "      <td>...</td>\n",
       "      <td>...</td>\n",
       "      <td>...</td>\n",
       "      <td>...</td>\n",
       "      <td>...</td>\n",
       "      <td>...</td>\n",
       "      <td>...</td>\n",
       "      <td>...</td>\n",
       "      <td>...</td>\n",
       "      <td>...</td>\n",
       "    </tr>\n",
       "    <tr>\n",
       "      <th>160.0</th>\n",
       "      <th>1.0</th>\n",
       "      <td>235</td>\n",
       "      <td>235</td>\n",
       "      <td>235</td>\n",
       "      <td>235</td>\n",
       "      <td>235</td>\n",
       "      <td>235</td>\n",
       "      <td>235</td>\n",
       "      <td>235</td>\n",
       "      <td>235</td>\n",
       "      <td>235</td>\n",
       "      <td>...</td>\n",
       "      <td>235</td>\n",
       "      <td>235</td>\n",
       "      <td>235</td>\n",
       "      <td>235</td>\n",
       "      <td>235</td>\n",
       "      <td>235</td>\n",
       "      <td>235</td>\n",
       "      <td>235</td>\n",
       "      <td>235</td>\n",
       "      <td>235</td>\n",
       "    </tr>\n",
       "    <tr>\n",
       "      <th>161.0</th>\n",
       "      <th>0.0</th>\n",
       "      <td>233</td>\n",
       "      <td>233</td>\n",
       "      <td>233</td>\n",
       "      <td>233</td>\n",
       "      <td>233</td>\n",
       "      <td>233</td>\n",
       "      <td>233</td>\n",
       "      <td>233</td>\n",
       "      <td>233</td>\n",
       "      <td>233</td>\n",
       "      <td>...</td>\n",
       "      <td>233</td>\n",
       "      <td>233</td>\n",
       "      <td>233</td>\n",
       "      <td>233</td>\n",
       "      <td>233</td>\n",
       "      <td>233</td>\n",
       "      <td>233</td>\n",
       "      <td>233</td>\n",
       "      <td>233</td>\n",
       "      <td>233</td>\n",
       "    </tr>\n",
       "    <tr>\n",
       "      <th>162.0</th>\n",
       "      <th>1.0</th>\n",
       "      <td>235</td>\n",
       "      <td>235</td>\n",
       "      <td>235</td>\n",
       "      <td>235</td>\n",
       "      <td>235</td>\n",
       "      <td>235</td>\n",
       "      <td>235</td>\n",
       "      <td>235</td>\n",
       "      <td>235</td>\n",
       "      <td>235</td>\n",
       "      <td>...</td>\n",
       "      <td>235</td>\n",
       "      <td>235</td>\n",
       "      <td>235</td>\n",
       "      <td>235</td>\n",
       "      <td>235</td>\n",
       "      <td>235</td>\n",
       "      <td>235</td>\n",
       "      <td>235</td>\n",
       "      <td>235</td>\n",
       "      <td>235</td>\n",
       "    </tr>\n",
       "    <tr>\n",
       "      <th>163.0</th>\n",
       "      <th>2.0</th>\n",
       "      <td>238</td>\n",
       "      <td>238</td>\n",
       "      <td>238</td>\n",
       "      <td>238</td>\n",
       "      <td>238</td>\n",
       "      <td>238</td>\n",
       "      <td>238</td>\n",
       "      <td>238</td>\n",
       "      <td>238</td>\n",
       "      <td>238</td>\n",
       "      <td>...</td>\n",
       "      <td>238</td>\n",
       "      <td>238</td>\n",
       "      <td>238</td>\n",
       "      <td>238</td>\n",
       "      <td>238</td>\n",
       "      <td>238</td>\n",
       "      <td>238</td>\n",
       "      <td>238</td>\n",
       "      <td>238</td>\n",
       "      <td>238</td>\n",
       "    </tr>\n",
       "    <tr>\n",
       "      <th>164.0</th>\n",
       "      <th>0.0</th>\n",
       "      <td>206</td>\n",
       "      <td>206</td>\n",
       "      <td>206</td>\n",
       "      <td>206</td>\n",
       "      <td>206</td>\n",
       "      <td>206</td>\n",
       "      <td>206</td>\n",
       "      <td>206</td>\n",
       "      <td>206</td>\n",
       "      <td>206</td>\n",
       "      <td>...</td>\n",
       "      <td>206</td>\n",
       "      <td>206</td>\n",
       "      <td>206</td>\n",
       "      <td>206</td>\n",
       "      <td>206</td>\n",
       "      <td>206</td>\n",
       "      <td>206</td>\n",
       "      <td>206</td>\n",
       "      <td>206</td>\n",
       "      <td>206</td>\n",
       "    </tr>\n",
       "  </tbody>\n",
       "</table>\n",
       "<p>165 rows × 311 columns</p>\n",
       "</div>"
      ],
      "text/plain": [
       "             f_0  f_1  f_2  f_3  f_4  f_5  f_6  f_7  f_8  f_9  ...  f_301  \\\n",
       "movie label                                                    ...          \n",
       "0.0   2.0    238  238  238  238  238  238  238  238  238  238  ...    238   \n",
       "1.0   1.0    233  233  233  233  233  233  233  233  233  233  ...    233   \n",
       "2.0   0.0    206  206  206  206  206  206  206  206  206  206  ...    206   \n",
       "3.0   0.0    238  238  238  238  238  238  238  238  238  238  ...    238   \n",
       "4.0   1.0    185  185  185  185  185  185  185  185  185  185  ...    185   \n",
       "...          ...  ...  ...  ...  ...  ...  ...  ...  ...  ...  ...    ...   \n",
       "160.0 1.0    235  235  235  235  235  235  235  235  235  235  ...    235   \n",
       "161.0 0.0    233  233  233  233  233  233  233  233  233  233  ...    233   \n",
       "162.0 1.0    235  235  235  235  235  235  235  235  235  235  ...    235   \n",
       "163.0 2.0    238  238  238  238  238  238  238  238  238  238  ...    238   \n",
       "164.0 0.0    206  206  206  206  206  206  206  206  206  206  ...    206   \n",
       "\n",
       "             f_302  f_303  f_304  f_305  f_306  f_307  f_308  f_309  people  \n",
       "movie label                                                                  \n",
       "0.0   2.0      238    238    238    238    238    238    238    238     238  \n",
       "1.0   1.0      233    233    233    233    233    233    233    233     233  \n",
       "2.0   0.0      206    206    206    206    206    206    206    206     206  \n",
       "3.0   0.0      238    238    238    238    238    238    238    238     238  \n",
       "4.0   1.0      185    185    185    185    185    185    185    185     185  \n",
       "...            ...    ...    ...    ...    ...    ...    ...    ...     ...  \n",
       "160.0 1.0      235    235    235    235    235    235    235    235     235  \n",
       "161.0 0.0      233    233    233    233    233    233    233    233     233  \n",
       "162.0 1.0      235    235    235    235    235    235    235    235     235  \n",
       "163.0 2.0      238    238    238    238    238    238    238    238     238  \n",
       "164.0 0.0      206    206    206    206    206    206    206    206     206  \n",
       "\n",
       "[165 rows x 311 columns]"
      ]
     },
     "execution_count": 7,
     "metadata": {},
     "output_type": "execute_result"
    }
   ],
   "source": [
    "train_df.groupby(['movie','label']).count()"
   ]
  },
  {
   "cell_type": "code",
   "execution_count": 8,
   "metadata": {},
   "outputs": [],
   "source": [
    "norm_fe = ['norm' + x for x in features]\n",
    "for no in norm_fe:\n",
    "    train_df[no]=0\n",
    "    \n",
    "norm_fe = ['norm' + x for x in features]\n",
    "for no in norm_fe:\n",
    "    test_df[no]=0"
   ]
  },
  {
   "cell_type": "code",
   "execution_count": 65,
   "metadata": {},
   "outputs": [],
   "source": [
    "padding = np.max(split)\n",
    "train_CUT = 128"
   ]
  },
  {
   "cell_type": "code",
   "execution_count": 66,
   "metadata": {},
   "outputs": [],
   "source": [
    "class MyDataset(Dataset):\n",
    "    def __init__(self,data_df,istrain=True):\n",
    "        super().__init__()\n",
    "        self.data_df = data_df\n",
    "        self.movie = data_df.movie.unique()\n",
    "        self.istrain = istrain\n",
    "    def __getitem__(self, index):\n",
    "        movie = self.movie[index]\n",
    "        x = self.data_df[self.data_df['movie']==movie][norm_fe].values\n",
    "        label = self.data_df[self.data_df['movie']==movie]['label'].values\n",
    "        if self.istrain:\n",
    "            # 随机截取train_CUT\n",
    "            start = np.random.randint(0,x.shape[0]-train_CUT)\n",
    "            x = x[start:start+train_CUT]            \n",
    "            # label 一样\n",
    "            label = label[start:start+train_CUT]\n",
    "            return np.array(x,dtype='float'), label\n",
    "        else:\n",
    "            # 测试的时候填充\n",
    "            tempx = np.zeros((padding,310))\n",
    "            tempx[:x.shape[0],:] = x\n",
    "            templ = np.zeros(padding)\n",
    "            templ[:x.shape[0]] = label\n",
    "            return np.array(tempx, dtype='float'), templ, x.shape[0]\n",
    "    def __len__(self) -> int:\n",
    "        return len(self.movie)"
   ]
  },
  {
   "cell_type": "code",
   "execution_count": 87,
   "metadata": {},
   "outputs": [],
   "source": [
    "class Mynet(nn.Module):\n",
    "    def __init__(self,n_class,addcnn=False):\n",
    "        super(Mynet,self).__init__()\n",
    "        self.rnn = nn.LSTM(input_size=310, hidden_size=64, num_layers=1)#(input_size,hidden_size,num_layers)\n",
    "        self.drop = nn.Dropout(0.3)\n",
    "        # 卷积  60*310\n",
    "        self.cnn = nn.Conv2d(1,64,10,stride=5)\n",
    "        self.pool = nn.AdaptiveAvgPool2d((1,1))\n",
    "        \n",
    "        self.addcnn = addcnn\n",
    "        \n",
    "        if self.addcnn:\n",
    "            self.fc = nn.Linear(64+64+310, n_class)\n",
    "        else:\n",
    "            self.fc = nn.Linear(64+310, n_class)\n",
    "    def forward(self, input_data):\n",
    "        # seq_len, batch, input_size\n",
    "        \n",
    "        if self.addcnn:\n",
    "            \n",
    "            btc = input_data.shape[0]\n",
    "            seql = input_data.shape[1]\n",
    "            tempinput = input_data.unsqueeze(1)\n",
    "            cnnfe = self.cnn(tempinput)\n",
    "\n",
    "            input_data = input_data.transpose(0,1)\n",
    "            input_data = self.drop(input_data)\n",
    "            # N*T*H\n",
    "            feature = self.rnn(input_data)[0]\n",
    "            feature = feature.transpose(0,1)\n",
    "            input_data = input_data.transpose(0,1)\n",
    "\n",
    "            # N*64*H*W\n",
    "            cnnfe = self.pool(cnnfe)\n",
    "            cnnfe = cnnfe.reshape(btc,1,-1)\n",
    "            cnnfe = cnnfe.repeat(1,seql,1)\n",
    "\n",
    "            new = torch.cat([feature,input_data,cnnfe],dim=-1)\n",
    "            return self.fc(new)\n",
    "        else:\n",
    "            btc = input_data.shape[0]\n",
    "            seql = input_data.shape[1]\n",
    "            input_data = input_data.transpose(0,1)\n",
    "            input_data = self.drop(input_data)\n",
    "            # N*T*H\n",
    "            feature = self.rnn(input_data)[0]\n",
    "            feature = feature.transpose(0,1)\n",
    "            input_data = input_data.transpose(0,1)\n",
    "\n",
    "            new = torch.cat([feature,input_data],dim=-1)\n",
    "            return self.fc(new)"
   ]
  },
  {
   "cell_type": "code",
   "execution_count": 69,
   "metadata": {},
   "outputs": [
    {
     "data": {
      "text/plain": [
       "12"
      ]
     },
     "execution_count": 69,
     "metadata": {},
     "output_type": "execute_result"
    }
   ],
   "source": [
    "batch_size"
   ]
  },
  {
   "cell_type": "code",
   "execution_count": 77,
   "metadata": {},
   "outputs": [],
   "source": [
    "# 归一化\n",
    "batch_size = 16\n",
    "num_workers = 0\n",
    "\n",
    "# 对每个人分别标准化\n",
    "\n",
    "ss = StandardScaler()\n",
    "\n",
    "for pp in train_df.people.unique():\n",
    "    tps = train_df[train_df.people==pp][features].values\n",
    "    ss.fit(tps)\n",
    "    X_train_std = ss.transform(tps)\n",
    "    train_df.loc[train_df.people==pp, norm_fe] = X_train_std\n",
    "\n",
    "for pp in test_df.people.unique():\n",
    "    tps = test_df[test_df.people==pp][features].values\n",
    "    ss.fit(tps)\n",
    "    X_test_std = ss.transform(tps)\n",
    "    test_df.loc[test_df.people==pp, norm_fe] = X_test_std\n",
    "    \n",
    "# ss.fit(test_df[features].values)\n",
    "# X_test_std = ss.transform(test_df[features].values)\n",
    "# test_df[norm_fe] = X_test_std\n",
    "\n",
    "# train_df.reset_index(inplace=True)\n",
    "# test_df.reset_index(inplace=True)\n",
    "\n",
    "train_dataset = MyDataset(train_df)\n",
    "train_loader = torch.utils.data.DataLoader(\n",
    "    train_dataset,                 \n",
    "    batch_size=batch_size,               \n",
    "    num_workers=num_workers,                          \n",
    "    shuffle=True\n",
    ")\n",
    "\n",
    "test_dataset = MyDataset(test_df,False)\n",
    "test_loader = torch.utils.data.DataLoader(\n",
    "    test_dataset,\n",
    "    batch_size=batch_size,\n",
    "    num_workers=num_workers,\n",
    "    shuffle=False\n",
    ")"
   ]
  },
  {
   "cell_type": "code",
   "execution_count": 98,
   "metadata": {},
   "outputs": [
    {
     "data": {
      "application/vnd.jupyter.widget-view+json": {
       "model_id": "a8b72ed4504440f08ec2eb0ef10e13f3",
       "version_major": 2,
       "version_minor": 0
      },
      "text/plain": [
       "HBox(children=(IntProgress(value=0, max=11), HTML(value='')))"
      ]
     },
     "metadata": {},
     "output_type": "display_data"
    },
    {
     "name": "stdout",
     "output_type": "stream",
     "text": [
      "Epoch 0/199\n",
      "Training Loss: 4.75136\n",
      "Training label acc: 0.54792\n"
     ]
    },
    {
     "data": {
      "application/vnd.jupyter.widget-view+json": {
       "model_id": "c9215958e0a445719d738dbafb5b4560",
       "version_major": 2,
       "version_minor": 0
      },
      "text/plain": [
       "HBox(children=(IntProgress(value=0, max=4), HTML(value='')))"
      ]
     },
     "metadata": {},
     "output_type": "display_data"
    },
    {
     "name": "stdout",
     "output_type": "stream",
     "text": [
      "Testing pred acc: 0.69422\n",
      "Running time: 3.3453993797302246 Seconds\n"
     ]
    },
    {
     "data": {
      "application/vnd.jupyter.widget-view+json": {
       "model_id": "bf892865f0684c79b413750b0d828bc4",
       "version_major": 2,
       "version_minor": 0
      },
      "text/plain": [
       "HBox(children=(IntProgress(value=0, max=11), HTML(value='')))"
      ]
     },
     "metadata": {},
     "output_type": "display_data"
    },
    {
     "name": "stdout",
     "output_type": "stream",
     "text": [
      "Epoch 1/199\n",
      "Training Loss: 3.81653\n",
      "Training label acc: 0.72737\n"
     ]
    },
    {
     "data": {
      "application/vnd.jupyter.widget-view+json": {
       "model_id": "72da96042b704b02bcacf00dbfc35555",
       "version_major": 2,
       "version_minor": 0
      },
      "text/plain": [
       "HBox(children=(IntProgress(value=0, max=4), HTML(value='')))"
      ]
     },
     "metadata": {},
     "output_type": "display_data"
    },
    {
     "name": "stdout",
     "output_type": "stream",
     "text": [
      "Testing pred acc: 0.76119\n",
      "Running time: 6.204131126403809 Seconds\n"
     ]
    },
    {
     "data": {
      "application/vnd.jupyter.widget-view+json": {
       "model_id": "471bb181728c4573b0308d6b85ed1617",
       "version_major": 2,
       "version_minor": 0
      },
      "text/plain": [
       "HBox(children=(IntProgress(value=0, max=11), HTML(value='')))"
      ]
     },
     "metadata": {},
     "output_type": "display_data"
    },
    {
     "name": "stdout",
     "output_type": "stream",
     "text": [
      "Epoch 2/199\n",
      "Training Loss: 2.75702\n",
      "Training label acc: 0.79290\n"
     ]
    },
    {
     "data": {
      "application/vnd.jupyter.widget-view+json": {
       "model_id": "3a5205941b204d2ea2a79ad1ec3c39d2",
       "version_major": 2,
       "version_minor": 0
      },
      "text/plain": [
       "HBox(children=(IntProgress(value=0, max=4), HTML(value='')))"
      ]
     },
     "metadata": {},
     "output_type": "display_data"
    },
    {
     "name": "stdout",
     "output_type": "stream",
     "text": [
      "Testing pred acc: 0.76884\n",
      "Running time: 9.259012699127197 Seconds\n"
     ]
    },
    {
     "data": {
      "application/vnd.jupyter.widget-view+json": {
       "model_id": "7667879df62748bbb8859a77052ddde7",
       "version_major": 2,
       "version_minor": 0
      },
      "text/plain": [
       "HBox(children=(IntProgress(value=0, max=11), HTML(value='')))"
      ]
     },
     "metadata": {},
     "output_type": "display_data"
    },
    {
     "name": "stdout",
     "output_type": "stream",
     "text": [
      "Epoch 3/199\n",
      "Training Loss: 2.44126\n",
      "Training label acc: 0.82330\n"
     ]
    },
    {
     "data": {
      "application/vnd.jupyter.widget-view+json": {
       "model_id": "75e77725b33346f2ae2158b8cce3c32f",
       "version_major": 2,
       "version_minor": 0
      },
      "text/plain": [
       "HBox(children=(IntProgress(value=0, max=4), HTML(value='')))"
      ]
     },
     "metadata": {},
     "output_type": "display_data"
    },
    {
     "name": "stdout",
     "output_type": "stream",
     "text": [
      "Testing pred acc: 0.74941\n",
      "Running time: 11.85442328453064 Seconds\n"
     ]
    },
    {
     "data": {
      "application/vnd.jupyter.widget-view+json": {
       "model_id": "482a385fbd934060b45f0fc9ac5efd39",
       "version_major": 2,
       "version_minor": 0
      },
      "text/plain": [
       "HBox(children=(IntProgress(value=0, max=11), HTML(value='')))"
      ]
     },
     "metadata": {},
     "output_type": "display_data"
    },
    {
     "name": "stdout",
     "output_type": "stream",
     "text": [
      "Epoch 4/199\n",
      "Training Loss: 1.90538\n",
      "Training label acc: 0.87448\n"
     ]
    },
    {
     "data": {
      "application/vnd.jupyter.widget-view+json": {
       "model_id": "631ac07e8f814c9e9eb5e4ffdfedf0eb",
       "version_major": 2,
       "version_minor": 0
      },
      "text/plain": [
       "HBox(children=(IntProgress(value=0, max=4), HTML(value='')))"
      ]
     },
     "metadata": {},
     "output_type": "display_data"
    },
    {
     "name": "stdout",
     "output_type": "stream",
     "text": [
      "Testing pred acc: 0.76788\n",
      "Running time: 14.812514543533325 Seconds\n"
     ]
    },
    {
     "data": {
      "application/vnd.jupyter.widget-view+json": {
       "model_id": "5c68d88cc3134871bfb0a753951577db",
       "version_major": 2,
       "version_minor": 0
      },
      "text/plain": [
       "HBox(children=(IntProgress(value=0, max=11), HTML(value='')))"
      ]
     },
     "metadata": {},
     "output_type": "display_data"
    },
    {
     "name": "stdout",
     "output_type": "stream",
     "text": [
      "Epoch 5/199\n",
      "Training Loss: 1.62185\n",
      "Training label acc: 0.88778\n"
     ]
    },
    {
     "data": {
      "application/vnd.jupyter.widget-view+json": {
       "model_id": "c0d0684d2a794051bd561d2bf55099d9",
       "version_major": 2,
       "version_minor": 0
      },
      "text/plain": [
       "HBox(children=(IntProgress(value=0, max=4), HTML(value='')))"
      ]
     },
     "metadata": {},
     "output_type": "display_data"
    },
    {
     "name": "stdout",
     "output_type": "stream",
     "text": [
      "Testing pred acc: 0.78908\n",
      "Running time: 19.057135581970215 Seconds\n"
     ]
    },
    {
     "data": {
      "application/vnd.jupyter.widget-view+json": {
       "model_id": "15db659a30314c42b5d8ab8709c9056c",
       "version_major": 2,
       "version_minor": 0
      },
      "text/plain": [
       "HBox(children=(IntProgress(value=0, max=11), HTML(value='')))"
      ]
     },
     "metadata": {},
     "output_type": "display_data"
    },
    {
     "name": "stdout",
     "output_type": "stream",
     "text": [
      "Epoch 6/199\n",
      "Training Loss: 1.38031\n",
      "Training label acc: 0.90724\n"
     ]
    },
    {
     "data": {
      "application/vnd.jupyter.widget-view+json": {
       "model_id": "95d8351611014845bcf41280d7351243",
       "version_major": 2,
       "version_minor": 0
      },
      "text/plain": [
       "HBox(children=(IntProgress(value=0, max=4), HTML(value='')))"
      ]
     },
     "metadata": {},
     "output_type": "display_data"
    },
    {
     "name": "stdout",
     "output_type": "stream",
     "text": [
      "Testing pred acc: 0.76729\n",
      "Running time: 21.909510374069214 Seconds\n"
     ]
    },
    {
     "data": {
      "application/vnd.jupyter.widget-view+json": {
       "model_id": "cde50d57ff724b3e98872e53afc582bb",
       "version_major": 2,
       "version_minor": 0
      },
      "text/plain": [
       "HBox(children=(IntProgress(value=0, max=11), HTML(value='')))"
      ]
     },
     "metadata": {},
     "output_type": "display_data"
    },
    {
     "name": "stdout",
     "output_type": "stream",
     "text": [
      "Epoch 7/199\n",
      "Training Loss: 1.17209\n",
      "Training label acc: 0.92808\n"
     ]
    },
    {
     "data": {
      "application/vnd.jupyter.widget-view+json": {
       "model_id": "7fc72a420b0a4269aac651f18fbc7264",
       "version_major": 2,
       "version_minor": 0
      },
      "text/plain": [
       "HBox(children=(IntProgress(value=0, max=4), HTML(value='')))"
      ]
     },
     "metadata": {},
     "output_type": "display_data"
    },
    {
     "name": "stdout",
     "output_type": "stream",
     "text": [
      "Testing pred acc: 0.77819\n",
      "Running time: 24.827817916870117 Seconds\n"
     ]
    },
    {
     "data": {
      "application/vnd.jupyter.widget-view+json": {
       "model_id": "eab4fcf536ef44daa9d4bd7e2775c044",
       "version_major": 2,
       "version_minor": 0
      },
      "text/plain": [
       "HBox(children=(IntProgress(value=0, max=11), HTML(value='')))"
      ]
     },
     "metadata": {},
     "output_type": "display_data"
    },
    {
     "name": "stdout",
     "output_type": "stream",
     "text": [
      "Epoch 8/199\n",
      "Training Loss: 1.06163\n",
      "Training label acc: 0.93433\n"
     ]
    },
    {
     "data": {
      "application/vnd.jupyter.widget-view+json": {
       "model_id": "3bcdbe05dff445c1ad5bbc4156644a2c",
       "version_major": 2,
       "version_minor": 0
      },
      "text/plain": [
       "HBox(children=(IntProgress(value=0, max=4), HTML(value='')))"
      ]
     },
     "metadata": {},
     "output_type": "display_data"
    },
    {
     "name": "stdout",
     "output_type": "stream",
     "text": [
      "Testing pred acc: 0.76001\n",
      "Running time: 27.978519678115845 Seconds\n"
     ]
    },
    {
     "data": {
      "application/vnd.jupyter.widget-view+json": {
       "model_id": "4ba32b97fd4d4750a8145d987013d348",
       "version_major": 2,
       "version_minor": 0
      },
      "text/plain": [
       "HBox(children=(IntProgress(value=0, max=11), HTML(value='')))"
      ]
     },
     "metadata": {},
     "output_type": "display_data"
    },
    {
     "name": "stdout",
     "output_type": "stream",
     "text": [
      "Epoch 9/199\n",
      "Training Loss: 0.79207\n",
      "Training label acc: 0.95904\n"
     ]
    },
    {
     "data": {
      "application/vnd.jupyter.widget-view+json": {
       "model_id": "4a1e644f6055456d8556745c33a28491",
       "version_major": 2,
       "version_minor": 0
      },
      "text/plain": [
       "HBox(children=(IntProgress(value=0, max=4), HTML(value='')))"
      ]
     },
     "metadata": {},
     "output_type": "display_data"
    },
    {
     "name": "stdout",
     "output_type": "stream",
     "text": [
      "Testing pred acc: 0.75088\n",
      "Running time: 30.70945167541504 Seconds\n"
     ]
    },
    {
     "data": {
      "application/vnd.jupyter.widget-view+json": {
       "model_id": "10a6d4120b5b45c9a87e03590b9df42c",
       "version_major": 2,
       "version_minor": 0
      },
      "text/plain": [
       "HBox(children=(IntProgress(value=0, max=11), HTML(value='')))"
      ]
     },
     "metadata": {},
     "output_type": "display_data"
    },
    {
     "name": "stdout",
     "output_type": "stream",
     "text": [
      "Epoch 10/199\n",
      "Training Loss: 0.66010\n",
      "Training label acc: 0.96037\n"
     ]
    },
    {
     "data": {
      "application/vnd.jupyter.widget-view+json": {
       "model_id": "df9ddb041c00446caa9bd58fe7477373",
       "version_major": 2,
       "version_minor": 0
      },
      "text/plain": [
       "HBox(children=(IntProgress(value=0, max=4), HTML(value='')))"
      ]
     },
     "metadata": {},
     "output_type": "display_data"
    },
    {
     "name": "stdout",
     "output_type": "stream",
     "text": [
      "Testing pred acc: 0.73168\n",
      "Running time: 33.19499850273132 Seconds\n"
     ]
    },
    {
     "data": {
      "application/vnd.jupyter.widget-view+json": {
       "model_id": "c052d37ed06948b1a938fb66115e8a2b",
       "version_major": 2,
       "version_minor": 0
      },
      "text/plain": [
       "HBox(children=(IntProgress(value=0, max=11), HTML(value='')))"
      ]
     },
     "metadata": {},
     "output_type": "display_data"
    },
    {
     "name": "stdout",
     "output_type": "stream",
     "text": [
      "Epoch 11/199\n",
      "Training Loss: 0.53831\n",
      "Training label acc: 0.96283\n"
     ]
    },
    {
     "data": {
      "application/vnd.jupyter.widget-view+json": {
       "model_id": "a2bce35588394f609c09339816b0dbe7",
       "version_major": 2,
       "version_minor": 0
      },
      "text/plain": [
       "HBox(children=(IntProgress(value=0, max=4), HTML(value='')))"
      ]
     },
     "metadata": {},
     "output_type": "display_data"
    },
    {
     "name": "stdout",
     "output_type": "stream",
     "text": [
      "Testing pred acc: 0.72505\n",
      "Running time: 36.08043956756592 Seconds\n"
     ]
    },
    {
     "data": {
      "application/vnd.jupyter.widget-view+json": {
       "model_id": "27b0fdcc12ad4788b4ab0180488dbbab",
       "version_major": 2,
       "version_minor": 0
      },
      "text/plain": [
       "HBox(children=(IntProgress(value=0, max=11), HTML(value='')))"
      ]
     },
     "metadata": {},
     "output_type": "display_data"
    },
    {
     "name": "stdout",
     "output_type": "stream",
     "text": [
      "Epoch 12/199\n",
      "Training Loss: 0.45818\n",
      "Training label acc: 0.97173\n"
     ]
    },
    {
     "data": {
      "application/vnd.jupyter.widget-view+json": {
       "model_id": "e7e907cb1a8f4917bbfa5eb78eda1094",
       "version_major": 2,
       "version_minor": 0
      },
      "text/plain": [
       "HBox(children=(IntProgress(value=0, max=4), HTML(value='')))"
      ]
     },
     "metadata": {},
     "output_type": "display_data"
    },
    {
     "name": "stdout",
     "output_type": "stream",
     "text": [
      "Testing pred acc: 0.73344\n",
      "Running time: 39.16206908226013 Seconds\n"
     ]
    },
    {
     "data": {
      "application/vnd.jupyter.widget-view+json": {
       "model_id": "9a4e878320f94b17afdebe6c818070b5",
       "version_major": 2,
       "version_minor": 0
      },
      "text/plain": [
       "HBox(children=(IntProgress(value=0, max=11), HTML(value='')))"
      ]
     },
     "metadata": {},
     "output_type": "display_data"
    },
    {
     "name": "stdout",
     "output_type": "stream",
     "text": [
      "Epoch 13/199\n",
      "Training Loss: 0.55295\n",
      "Training label acc: 0.97921\n"
     ]
    },
    {
     "data": {
      "application/vnd.jupyter.widget-view+json": {
       "model_id": "d439eff11435443680d3c26ecc5fbcd1",
       "version_major": 2,
       "version_minor": 0
      },
      "text/plain": [
       "HBox(children=(IntProgress(value=0, max=4), HTML(value='')))"
      ]
     },
     "metadata": {},
     "output_type": "display_data"
    },
    {
     "name": "stdout",
     "output_type": "stream",
     "text": [
      "Testing pred acc: 0.71615\n",
      "Running time: 42.17841148376465 Seconds\n"
     ]
    },
    {
     "data": {
      "application/vnd.jupyter.widget-view+json": {
       "model_id": "a86090ee2e44432fbebc220b1ee9a85c",
       "version_major": 2,
       "version_minor": 0
      },
      "text/plain": [
       "HBox(children=(IntProgress(value=0, max=11), HTML(value='')))"
      ]
     },
     "metadata": {},
     "output_type": "display_data"
    },
    {
     "name": "stdout",
     "output_type": "stream",
     "text": [
      "Epoch 14/199\n",
      "Training Loss: 0.24009\n",
      "Training label acc: 0.98452\n"
     ]
    },
    {
     "data": {
      "application/vnd.jupyter.widget-view+json": {
       "model_id": "95d52588678942929946ee1d3018d3d1",
       "version_major": 2,
       "version_minor": 0
      },
      "text/plain": [
       "HBox(children=(IntProgress(value=0, max=4), HTML(value='')))"
      ]
     },
     "metadata": {},
     "output_type": "display_data"
    },
    {
     "name": "stdout",
     "output_type": "stream",
     "text": [
      "Testing pred acc: 0.71129\n",
      "Running time: 45.25334978103638 Seconds\n"
     ]
    },
    {
     "data": {
      "application/vnd.jupyter.widget-view+json": {
       "model_id": "9ba6d7ea14cc4f7184f144f5b6e24201",
       "version_major": 2,
       "version_minor": 0
      },
      "text/plain": [
       "HBox(children=(IntProgress(value=0, max=11), HTML(value='')))"
      ]
     },
     "metadata": {},
     "output_type": "display_data"
    },
    {
     "name": "stdout",
     "output_type": "stream",
     "text": [
      "Epoch 15/199\n",
      "Training Loss: 0.23558\n",
      "Training label acc: 0.98603\n"
     ]
    },
    {
     "data": {
      "application/vnd.jupyter.widget-view+json": {
       "model_id": "28722f2a40574c82a2ab2d0f8a193c04",
       "version_major": 2,
       "version_minor": 0
      },
      "text/plain": [
       "HBox(children=(IntProgress(value=0, max=4), HTML(value='')))"
      ]
     },
     "metadata": {},
     "output_type": "display_data"
    },
    {
     "name": "stdout",
     "output_type": "stream",
     "text": [
      "Testing pred acc: 0.67302\n",
      "early_stop---------------\n",
      "best_score:0.789078598763615\n"
     ]
    }
   ],
   "source": [
    "# train------------------------\n",
    "from tqdm import tqdm_notebook\n",
    "import time\n",
    "start=time.time()\n",
    "batch_size = 64\n",
    "num_workers = 0\n",
    "lr = 0.001\n",
    "num_epochs = 200\n",
    "\n",
    "device = 'cpu'\n",
    "model = Mynet(n_class=3,addcnn=False)\n",
    "model = model.to(device)\n",
    "pred_crit = torch.nn.CrossEntropyLoss().to(device)\n",
    "\n",
    "train_loss = []\n",
    "test_loss = []\n",
    "early_stop = 10\n",
    "best_score = -1\n",
    "ct = 0\n",
    "\n",
    "for epoch in range(num_epochs):\n",
    "    optimizer = torch.optim.Adam(model.parameters(), lr=lr,weight_decay=1e-6)\n",
    "    ts = tqdm_notebook(enumerate(train_loader), total=int(len(train_loader)))\n",
    "    len_dataloader = len(train_loader)\n",
    "    running_loss = 0\n",
    "    loss_temp = 0\n",
    "    print('Epoch {}/{}'.format(epoch, num_epochs - 1))\n",
    "    acc = 0.0\n",
    "    preds = []\n",
    "    lbs = []\n",
    "    # 训练\n",
    "    model.train()\n",
    "    for kk,(x,label) in ts:\n",
    "        x = x.to(device).float()\n",
    "        label = label.to(device).long()\n",
    "        batch_size = x.shape[0]\n",
    "        out = model(x)\n",
    "        \n",
    "        # out: N*T*class\n",
    "        label = label.reshape(-1)\n",
    "        out = out.reshape(-1,3)\n",
    "        loss = pred_crit(out,label)\n",
    "        preds.extend(out.softmax(dim=-1).data.numpy().tolist())\n",
    "        lbs.extend(label.numpy().tolist())\n",
    "        loss.backward()\n",
    "        optimizer.step()\n",
    "        optimizer.zero_grad()\n",
    "        \n",
    "        # loss\n",
    "        running_loss += loss.item()\n",
    "        loss_temp += loss.item()\n",
    "        ts.set_postfix(loss=(loss_temp/(kk+1)))\n",
    "    epoch_loss = running_loss / (len(train_loader)/batch_size)\n",
    "    train_loss.append(epoch_loss)\n",
    "    \n",
    "    if epoch%1==0:\n",
    "            print('Training Loss: {:.5f}'.format(epoch_loss))\n",
    "            # 计算predACC\n",
    "            preds = np.array(preds)\n",
    "            preds = preds.argmax(axis=1)\n",
    "            lbs = np.array(lbs)\n",
    "            lbacc = np.sum(lbs==preds)/len(lbs)\n",
    "            print('Training label acc: {:.5f}'.format(lbacc))\n",
    "    if True:\n",
    "        # 测试 / 验证\n",
    "        test_running_loss = 0\n",
    "        test_acc = 0\n",
    "        test_preds = []\n",
    "        finalcut = []\n",
    "        test_lbs = []\n",
    "        test_loss_temp = 0\n",
    "        tk = tqdm_notebook(enumerate(test_loader), total=int(len(test_loader)))\n",
    "        model.eval()\n",
    "        for ks,(x,label,cuts) in tk:\n",
    "            with torch.no_grad():\n",
    "                x = x.to(device).float()\n",
    "                label = label.to(device).long()\n",
    "                batch_size = x.shape[0]\n",
    "                out = model(x)\n",
    "                label = label.reshape(-1)\n",
    "                out = out.reshape(-1,3)\n",
    "                loss = pred_crit(out,label)\n",
    "                out = out.reshape(batch_size,-1,3)\n",
    "                label = label.reshape(batch_size,-1)\n",
    "                \n",
    "                test_preds.append(out.softmax(dim=2).data.numpy())\n",
    "                test_lbs.append(label.numpy())\n",
    "                finalcut.append(cuts.numpy())\n",
    "                test_running_loss += loss.item()\n",
    "                test_loss_temp += loss.item()\n",
    "                tk.set_postfix(loss=(test_loss_temp/(ks+1)))\n",
    "\n",
    "        test_epoch_loss = test_running_loss / (len(test_loader)/batch_size)\n",
    "        test_loss.append(test_epoch_loss)\n",
    "        # N * T * 3\n",
    "        test_preds = np.concatenate(test_preds)\n",
    "        # N * 1\n",
    "        finalcut = np.concatenate(finalcut)\n",
    "        # N * T * 1\n",
    "        test_lbs = np.concatenate(test_lbs)\n",
    "        finalpds = []\n",
    "        finallbs = []\n",
    "        for n in range(test_preds.shape[0]):\n",
    "            tempp = test_preds[n,:finalcut[n],:].argmax(axis=-1)\n",
    "            finalpds.extend(tempp.tolist())\n",
    "            finallbs.extend(test_lbs[n,:finalcut[n]].tolist())\n",
    "        acc = np.sum(np.array(finalpds)==np.array(finallbs))/len(finalpds)\n",
    "        print('Testing pred acc: {:.5f}'.format(acc))\n",
    "        if acc>best_score:\n",
    "            ct = 0\n",
    "            best_score = acc\n",
    "        else:\n",
    "            ct+=1\n",
    "        if ct>=early_stop:\n",
    "            \n",
    "            print('early_stop---------------')\n",
    "            print(f'best_score:{best_score}')\n",
    "            break\n",
    "        end=time.time()\n",
    "        print('Running time: %s Seconds'%(end-start))"
   ]
  },
  {
   "cell_type": "code",
   "execution_count": 53,
   "metadata": {},
   "outputs": [
    {
     "data": {
      "text/plain": [
       "False"
      ]
     },
     "execution_count": 53,
     "metadata": {},
     "output_type": "execute_result"
    }
   ],
   "source": [
    "finallbs==finalpds"
   ]
  },
  {
   "cell_type": "code",
   "execution_count": 99,
   "metadata": {},
   "outputs": [
    {
     "data": {
      "text/plain": [
       "[<matplotlib.lines.Line2D at 0x1af86ad1358>]"
      ]
     },
     "execution_count": 99,
     "metadata": {},
     "output_type": "execute_result"
    },
    {
     "data": {
      "image/png": "[encoded data removed]",
      "text/plain": [
       "<Figure size 432x288 with 1 Axes>"
      ]
     },
     "metadata": {},
     "output_type": "display_data"
    }
   ],
   "source": [
    "plt.plot(train_loss)"
   ]
  },
  {
   "cell_type": "code",
   "execution_count": 100,
   "metadata": {},
   "outputs": [
    {
     "data": {
      "text/plain": [
       "[<matplotlib.lines.Line2D at 0x1af86b22630>]"
      ]
     },
     "execution_count": 100,
     "metadata": {},
     "output_type": "execute_result"
    },
    {
     "data": {
      "image/png": "[encoded data removed]",
      "text/plain": [
       "<Figure size 432x288 with 1 Axes>"
      ]
     },
     "metadata": {},
     "output_type": "display_data"
    }
   ],
   "source": [
    "plt.plot(test_loss)"
   ]
  },
  {
   "cell_type": "code",
   "execution_count": null,
   "metadata": {},
   "outputs": [],
   "source": []
  }
 ],
 "metadata": {
  "kernelspec": {
   "display_name": "Python 3",
   "language": "python",
   "name": "python3"
  },
  "language_info": {
   "codemirror_mode": {
    "name": "ipython",
    "version": 3
   },
   "file_extension": ".py",
   "mimetype": "text/x-python",
   "name": "python",
   "nbconvert_exporter": "python",
   "pygments_lexer": "ipython3",
   "version": "3.6.8"
  }
 },
 "nbformat": 4,
 "nbformat_minor": 2
}
